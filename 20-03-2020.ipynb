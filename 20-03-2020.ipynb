{
 "cells": [
  {
   "cell_type": "markdown",
   "metadata": {},
   "source": [
    "Numpy\n",
    "- convert A list,tuple,dict in to Numpy array\n",
    "- How to generate array with in a range of values\n",
    "    - arange\n",
    "    - linspace\n",
    "    - random.randint\n",
    "- basic arthimetc operators on numpy array"
   ]
  },
  {
   "cell_type": "code",
   "execution_count": 2,
   "metadata": {},
   "outputs": [
    {
     "data": {
      "text/plain": [
       "array([0, 1, 2, 3, 4, 5, 6, 7, 8, 9])"
      ]
     },
     "execution_count": 2,
     "metadata": {},
     "output_type": "execute_result"
    }
   ],
   "source": [
    "import numpy as np\n",
    "a = np.arange(10)\n",
    "a"
   ]
  },
  {
   "cell_type": "code",
   "execution_count": 7,
   "metadata": {},
   "outputs": [
    {
     "name": "stdout",
     "output_type": "stream",
     "text": [
      "[1 2 3 4 5 6 7 8 9]\n",
      "[1 3]\n",
      "[0 1 2 3 4 5 6 7 8 9]\n"
     ]
    }
   ],
   "source": [
    "# How to slicing \n",
    "print(a[1:10])\n",
    "print(a[1:5:2])\n",
    "print(a[:])"
   ]
  },
  {
   "cell_type": "code",
   "execution_count": 8,
   "metadata": {},
   "outputs": [
    {
     "data": {
      "text/plain": [
       "array([False, False, False, False, False, False,  True,  True,  True,\n",
       "        True])"
      ]
     },
     "execution_count": 8,
     "metadata": {},
     "output_type": "execute_result"
    }
   ],
   "source": [
    "a>5"
   ]
  },
  {
   "cell_type": "code",
   "execution_count": 9,
   "metadata": {},
   "outputs": [
    {
     "name": "stdout",
     "output_type": "stream",
     "text": [
      "[6 7 8 9]\n"
     ]
    }
   ],
   "source": [
    "# Fancy Indexing or Boolean Indexing\n",
    "print(a[a>5])"
   ]
  },
  {
   "cell_type": "code",
   "execution_count": 11,
   "metadata": {},
   "outputs": [
    {
     "data": {
      "text/plain": [
       "(10,)"
      ]
     },
     "execution_count": 11,
     "metadata": {},
     "output_type": "execute_result"
    }
   ],
   "source": [
    "a.shape"
   ]
  },
  {
   "cell_type": "code",
   "execution_count": 12,
   "metadata": {},
   "outputs": [
    {
     "data": {
      "text/plain": [
       "1"
      ]
     },
     "execution_count": 12,
     "metadata": {},
     "output_type": "execute_result"
    }
   ],
   "source": [
    "a.ndim"
   ]
  },
  {
   "cell_type": "code",
   "execution_count": 13,
   "metadata": {},
   "outputs": [
    {
     "data": {
      "text/plain": [
       "array([[24, 22, 14],\n",
       "       [25, 21, 15],\n",
       "       [29, 11, 18]])"
      ]
     },
     "execution_count": 13,
     "metadata": {},
     "output_type": "execute_result"
    }
   ],
   "source": [
    "a2 = np.random.randint(10,30,(3,3))\n",
    "a2"
   ]
  },
  {
   "cell_type": "code",
   "execution_count": 15,
   "metadata": {},
   "outputs": [
    {
     "name": "stdout",
     "output_type": "stream",
     "text": [
      "2\n",
      "(3, 3)\n"
     ]
    }
   ],
   "source": [
    "print(a2.ndim)\n",
    "print(a2.shape)"
   ]
  },
  {
   "cell_type": "code",
   "execution_count": 19,
   "metadata": {},
   "outputs": [
    {
     "name": "stdout",
     "output_type": "stream",
     "text": [
      "[24 22 14]\n"
     ]
    }
   ],
   "source": [
    "for i in a2:\n",
    "    print(i)\n",
    "    break"
   ]
  },
  {
   "cell_type": "code",
   "execution_count": 18,
   "metadata": {},
   "outputs": [
    {
     "name": "stdout",
     "output_type": "stream",
     "text": [
      "24 22 14 \n",
      "25 21 15 \n",
      "29 11 18 \n"
     ]
    }
   ],
   "source": [
    "for i in a2:\n",
    "    for j in i:\n",
    "        print(j,end=' ')\n",
    "    print()"
   ]
  },
  {
   "cell_type": "code",
   "execution_count": 25,
   "metadata": {},
   "outputs": [
    {
     "name": "stdout",
     "output_type": "stream",
     "text": [
      "[24 22 14] <class 'numpy.ndarray'> (3,)\n"
     ]
    }
   ],
   "source": [
    "print(a2[0],type(a2[0]),a2[0].shape)"
   ]
  },
  {
   "cell_type": "code",
   "execution_count": 24,
   "metadata": {},
   "outputs": [
    {
     "name": "stdout",
     "output_type": "stream",
     "text": [
      "[[25 21 15]\n",
      " [29 11 18]] <class 'numpy.ndarray'> (2, 3)\n"
     ]
    }
   ],
   "source": [
    "print(a2[1:],type(a2[1:]),a2[1:].shape)"
   ]
  },
  {
   "cell_type": "code",
   "execution_count": 28,
   "metadata": {},
   "outputs": [
    {
     "name": "stdout",
     "output_type": "stream",
     "text": [
      "15\n",
      "15\n"
     ]
    }
   ],
   "source": [
    "# rows from 0  to 2\n",
    "# columns from 0 to 2\n",
    "# 1st row and second column\n",
    "print(a2[1][2])\n",
    "print(a2[1,2])"
   ]
  },
  {
   "cell_type": "code",
   "execution_count": 47,
   "metadata": {},
   "outputs": [
    {
     "name": "stdout",
     "output_type": "stream",
     "text": [
      "[[25 21 15]\n",
      " [29 11 18]]\n"
     ]
    }
   ],
   "source": [
    "print(a2[1:3])"
   ]
  },
  {
   "cell_type": "code",
   "execution_count": 29,
   "metadata": {},
   "outputs": [
    {
     "name": "stdout",
     "output_type": "stream",
     "text": [
      "[[25 21]\n",
      " [29 11]]\n"
     ]
    }
   ],
   "source": [
    "print(a2[1:3,0:2])"
   ]
  },
  {
   "cell_type": "code",
   "execution_count": 30,
   "metadata": {},
   "outputs": [
    {
     "name": "stdout",
     "output_type": "stream",
     "text": [
      "[[24 22 14]\n",
      " [25 21 15]\n",
      " [29 11 18]]\n"
     ]
    }
   ],
   "source": [
    "print(a2)"
   ]
  },
  {
   "cell_type": "code",
   "execution_count": 32,
   "metadata": {},
   "outputs": [
    {
     "data": {
      "text/plain": [
       "array([[[27, 35, 84],\n",
       "        [81, 50, 25],\n",
       "        [50, 97, 85],\n",
       "        [72, 23, 83],\n",
       "        [68, 90, 93]],\n",
       "\n",
       "       [[15, 60, 33],\n",
       "        [86, 19, 26],\n",
       "        [86, 38, 60],\n",
       "        [83, 74, 39],\n",
       "        [63, 53, 32]],\n",
       "\n",
       "       [[36, 76, 82],\n",
       "        [34, 16, 46],\n",
       "        [77, 67, 95],\n",
       "        [36, 84, 35],\n",
       "        [76, 72, 84]],\n",
       "\n",
       "       [[79, 49, 45],\n",
       "        [79, 88, 86],\n",
       "        [98, 50, 77],\n",
       "        [90, 39, 96],\n",
       "        [15, 10, 15]],\n",
       "\n",
       "       [[70, 58, 32],\n",
       "        [92, 10, 14],\n",
       "        [26, 50, 97],\n",
       "        [27, 85, 16],\n",
       "        [38, 29, 52]]])"
      ]
     },
     "execution_count": 32,
     "metadata": {},
     "output_type": "execute_result"
    }
   ],
   "source": [
    "a3 = np.random.randint(10,100,(5,5,3))\n",
    "a3"
   ]
  },
  {
   "cell_type": "code",
   "execution_count": 48,
   "metadata": {},
   "outputs": [
    {
     "name": "stdout",
     "output_type": "stream",
     "text": [
      "[[[27 35 84]\n",
      "  [81 50 25]\n",
      "  [50 97 85]\n",
      "  [72 23 83]\n",
      "  [68 90 93]]\n",
      "\n",
      " [[15 60 33]\n",
      "  [86 19 26]\n",
      "  [86 38 60]\n",
      "  [83 74 39]\n",
      "  [63 53 32]]]\n"
     ]
    }
   ],
   "source": [
    "print(a3[:2]) # indices - 0,1"
   ]
  },
  {
   "cell_type": "code",
   "execution_count": 34,
   "metadata": {},
   "outputs": [
    {
     "name": "stdout",
     "output_type": "stream",
     "text": [
      "[[[15 60 33]\n",
      "  [86 19 26]\n",
      "  [86 38 60]\n",
      "  [83 74 39]\n",
      "  [63 53 32]]\n",
      "\n",
      " [[79 49 45]\n",
      "  [79 88 86]\n",
      "  [98 50 77]\n",
      "  [90 39 96]\n",
      "  [15 10 15]]]\n"
     ]
    }
   ],
   "source": [
    "print(a3[1::2])"
   ]
  },
  {
   "cell_type": "code",
   "execution_count": 35,
   "metadata": {},
   "outputs": [
    {
     "name": "stdout",
     "output_type": "stream",
     "text": [
      "[[86 38 60]\n",
      " [98 50 77]]\n"
     ]
    }
   ],
   "source": [
    "print(a3[1::2,2])"
   ]
  },
  {
   "cell_type": "code",
   "execution_count": 36,
   "metadata": {},
   "outputs": [
    {
     "name": "stdout",
     "output_type": "stream",
     "text": [
      "[[[15 60 33]\n",
      "  [86 38 60]\n",
      "  [63 53 32]]\n",
      "\n",
      " [[79 49 45]\n",
      "  [98 50 77]\n",
      "  [15 10 15]]]\n"
     ]
    }
   ],
   "source": [
    "print(a3[1::2,0:5:2])"
   ]
  },
  {
   "cell_type": "code",
   "execution_count": 37,
   "metadata": {},
   "outputs": [
    {
     "name": "stdout",
     "output_type": "stream",
     "text": [
      "[[33 60 32]\n",
      " [45 77 15]]\n"
     ]
    }
   ],
   "source": [
    "print(a3[1::2,0:5:2,2])"
   ]
  },
  {
   "cell_type": "code",
   "execution_count": 39,
   "metadata": {},
   "outputs": [
    {
     "data": {
      "text/plain": [
       "array([[[False, False, False],\n",
       "        [False, False, False],\n",
       "        [False, False, False],\n",
       "        [False, False, False],\n",
       "        [False, False, False]],\n",
       "\n",
       "       [[False, False, False],\n",
       "        [ True, False, False],\n",
       "        [ True, False, False],\n",
       "        [False, False, False],\n",
       "        [False, False, False]],\n",
       "\n",
       "       [[False, False, False],\n",
       "        [False, False, False],\n",
       "        [False, False, False],\n",
       "        [False, False, False],\n",
       "        [False, False, False]],\n",
       "\n",
       "       [[False, False, False],\n",
       "        [False, False,  True],\n",
       "        [False, False, False],\n",
       "        [False, False, False],\n",
       "        [False, False, False]],\n",
       "\n",
       "       [[False, False, False],\n",
       "        [False, False, False],\n",
       "        [False, False, False],\n",
       "        [False, False, False],\n",
       "        [False, False, False]]])"
      ]
     },
     "execution_count": 39,
     "metadata": {},
     "output_type": "execute_result"
    }
   ],
   "source": [
    "a3==86"
   ]
  },
  {
   "cell_type": "code",
   "execution_count": 40,
   "metadata": {},
   "outputs": [
    {
     "data": {
      "text/plain": [
       "array([86, 86, 86])"
      ]
     },
     "execution_count": 40,
     "metadata": {},
     "output_type": "execute_result"
    }
   ],
   "source": [
    "# Boolean Indexing\n",
    "a3[a3==86]"
   ]
  },
  {
   "cell_type": "code",
   "execution_count": 41,
   "metadata": {},
   "outputs": [
    {
     "data": {
      "text/plain": [
       "array([84, 81, 97, 85, 72, 83, 68, 90, 93, 60, 86, 86, 60, 83, 74, 63, 53,\n",
       "       76, 82, 77, 67, 95, 84, 76, 72, 84, 79, 79, 88, 86, 98, 77, 90, 96,\n",
       "       70, 58, 92, 97, 85, 52])"
      ]
     },
     "execution_count": 41,
     "metadata": {},
     "output_type": "execute_result"
    }
   ],
   "source": [
    "a3[a3>50]"
   ]
  },
  {
   "cell_type": "code",
   "execution_count": 44,
   "metadata": {},
   "outputs": [
    {
     "data": {
      "text/plain": [
       "array([68, 60, 60, 63, 53, 67, 58, 52])"
      ]
     },
     "execution_count": 44,
     "metadata": {},
     "output_type": "execute_result"
    }
   ],
   "source": [
    "a3[(a3>50) & (a3<70)] #or -- |"
   ]
  },
  {
   "cell_type": "code",
   "execution_count": 46,
   "metadata": {},
   "outputs": [
    {
     "data": {
      "text/plain": [
       "array([27, 35, 84, 81, 25, 97, 85, 72, 23, 83, 90, 93, 15, 33, 86, 19, 26,\n",
       "       86, 38, 83, 74, 39, 32, 36, 76, 82, 34, 16, 46, 77, 95, 36, 84, 35,\n",
       "       76, 72, 84, 79, 49, 45, 79, 88, 86, 98, 77, 90, 39, 96, 15, 10, 15,\n",
       "       32, 92, 10, 14, 26, 97, 27, 85, 16, 38, 29])"
      ]
     },
     "execution_count": 46,
     "metadata": {},
     "output_type": "execute_result"
    }
   ],
   "source": [
    "a3[(a3<50) | (a3>70)]"
   ]
  },
  {
   "cell_type": "code",
   "execution_count": 50,
   "metadata": {},
   "outputs": [],
   "source": [
    "L = list(range(100))\n",
    "# 0,1,2,3--- L[:]\n",
    "# 1,2,3,4.... L[1:]\n",
    "# 1,3,5,7,9,11,13 #L[1::2]\n",
    "# 1,13,45,74,23,67 # "
   ]
  },
  {
   "cell_type": "code",
   "execution_count": 51,
   "metadata": {},
   "outputs": [
    {
     "data": {
      "text/plain": [
       "array([ 1, 13, 45, 74, 23, 67])"
      ]
     },
     "execution_count": 51,
     "metadata": {},
     "output_type": "execute_result"
    }
   ],
   "source": [
    "aL = np.array(L)\n",
    "aL[[1,13,45,74,23,67]] "
   ]
  },
  {
   "cell_type": "code",
   "execution_count": 52,
   "metadata": {},
   "outputs": [
    {
     "data": {
      "text/plain": [
       "array([45, 74, 23, 67,  1,  7,  3])"
      ]
     },
     "execution_count": 52,
     "metadata": {},
     "output_type": "execute_result"
    }
   ],
   "source": [
    "aL[[45,74,23,67,1,7,3]]"
   ]
  },
  {
   "cell_type": "code",
   "execution_count": 53,
   "metadata": {},
   "outputs": [
    {
     "data": {
      "text/plain": [
       "array([[24, 22, 14],\n",
       "       [25, 21, 15],\n",
       "       [29, 11, 18]])"
      ]
     },
     "execution_count": 53,
     "metadata": {},
     "output_type": "execute_result"
    }
   ],
   "source": [
    "a2"
   ]
  },
  {
   "cell_type": "code",
   "execution_count": 54,
   "metadata": {},
   "outputs": [
    {
     "data": {
      "text/plain": [
       "array([25, 11])"
      ]
     },
     "execution_count": 54,
     "metadata": {},
     "output_type": "execute_result"
    }
   ],
   "source": [
    "a2[[1,2],[0,1]] # (1,0)(2,1)"
   ]
  },
  {
   "cell_type": "code",
   "execution_count": 58,
   "metadata": {
    "collapsed": true
   },
   "outputs": [
    {
     "name": "stdout",
     "output_type": "stream",
     "text": [
      "[19 95]\n",
      "19\n",
      "95\n"
     ]
    }
   ],
   "source": [
    "print(a3[[1,2],[1,2],[1,2]])#(1,1,1)(2,2,2)\n",
    "print(a3[1,1,1])\n",
    "print(a3[2,2,2])"
   ]
  },
  {
   "cell_type": "code",
   "execution_count": null,
   "metadata": {},
   "outputs": [],
   "source": [
    "statistical Functions "
   ]
  },
  {
   "cell_type": "code",
   "execution_count": 60,
   "metadata": {},
   "outputs": [
    {
     "data": {
      "text/plain": [
       "array([24, 25, 29, 27, 23])"
      ]
     },
     "execution_count": 60,
     "metadata": {},
     "output_type": "execute_result"
    }
   ],
   "source": [
    "a = np.random.randint(20,30,5)\n",
    "a"
   ]
  },
  {
   "cell_type": "code",
   "execution_count": 62,
   "metadata": {},
   "outputs": [
    {
     "name": "stdout",
     "output_type": "stream",
     "text": [
      "25.6\n",
      "25.6\n"
     ]
    }
   ],
   "source": [
    "print(np.mean(a))# avg\n",
    "print(np.sum(a)/np.size(a))"
   ]
  },
  {
   "cell_type": "code",
   "execution_count": 63,
   "metadata": {},
   "outputs": [
    {
     "data": {
      "text/plain": [
       "25.0"
      ]
     },
     "execution_count": 63,
     "metadata": {},
     "output_type": "execute_result"
    }
   ],
   "source": [
    "# sorted a [23,24,25,27,29]\n",
    "np.median(a)"
   ]
  },
  {
   "cell_type": "code",
   "execution_count": 66,
   "metadata": {},
   "outputs": [
    {
     "name": "stdout",
     "output_type": "stream",
     "text": [
      "24.0\n",
      "25.0\n",
      "27.0\n"
     ]
    }
   ],
   "source": [
    "print(np.quantile(a,0.25)) # Q1\n",
    "print(np.quantile(a,0.5)) # Q2\n",
    "print(np.quantile(a,0.75)) # Q3"
   ]
  },
  {
   "cell_type": "code",
   "execution_count": null,
   "metadata": {},
   "outputs": [],
   "source": [
    "## Logorithemic and Exponential"
   ]
  },
  {
   "cell_type": "code",
   "execution_count": 88,
   "metadata": {},
   "outputs": [
    {
     "name": "stdout",
     "output_type": "stream",
     "text": [
      "0.6931471805599453\n",
      "1.0\n"
     ]
    }
   ],
   "source": [
    "import numpy as np\n",
    "print(np.log(2))# log with base e\n",
    "print(np.log(np.exp(1)))"
   ]
  },
  {
   "cell_type": "code",
   "execution_count": 87,
   "metadata": {},
   "outputs": [
    {
     "name": "stdout",
     "output_type": "stream",
     "text": [
      "1.0\n",
      "2.807354922057604\n",
      "0.6989700043360189\n"
     ]
    }
   ],
   "source": [
    "print(np.log2(2))\n",
    "print(np.log2(7))\n",
    "print(np.log10(5))"
   ]
  },
  {
   "cell_type": "code",
   "execution_count": 74,
   "metadata": {},
   "outputs": [
    {
     "name": "stderr",
     "output_type": "stream",
     "text": [
      "C:\\Users\\Krish\\AppData\\Local\\Continuum\\anaconda3\\lib\\site-packages\\ipykernel_launcher.py:3: RuntimeWarning: divide by zero encountered in log10\n",
      "  This is separate from the ipykernel package so we can avoid doing imports until\n"
     ]
    },
    {
     "data": {
      "text/plain": [
       "-inf"
      ]
     },
     "execution_count": 74,
     "metadata": {},
     "output_type": "execute_result"
    }
   ],
   "source": [
    "#np.log(0)\n",
    "#np.log2(0)\n",
    "# np.log10(0)"
   ]
  },
  {
   "cell_type": "code",
   "execution_count": 75,
   "metadata": {},
   "outputs": [
    {
     "data": {
      "text/plain": [
       "0.0"
      ]
     },
     "execution_count": 75,
     "metadata": {},
     "output_type": "execute_result"
    }
   ],
   "source": [
    "np.log(0+1)"
   ]
  },
  {
   "cell_type": "code",
   "execution_count": 78,
   "metadata": {},
   "outputs": [
    {
     "name": "stdout",
     "output_type": "stream",
     "text": [
      "1.0986122886681098\n",
      "0.0\n"
     ]
    }
   ],
   "source": [
    "print(np.log1p(2)) # np.log(1+2)\n",
    "print(np.log1p(0)) # np.log(1+0)"
   ]
  },
  {
   "cell_type": "code",
   "execution_count": 79,
   "metadata": {},
   "outputs": [
    {
     "data": {
      "text/plain": [
       "2.718281828459045"
      ]
     },
     "execution_count": 79,
     "metadata": {},
     "output_type": "execute_result"
    }
   ],
   "source": [
    "np.exp(1)"
   ]
  },
  {
   "cell_type": "code",
   "execution_count": 80,
   "metadata": {},
   "outputs": [
    {
     "data": {
      "text/plain": [
       "7.38905609893065"
      ]
     },
     "execution_count": 80,
     "metadata": {},
     "output_type": "execute_result"
    }
   ],
   "source": [
    "np.exp(2)"
   ]
  },
  {
   "cell_type": "code",
   "execution_count": 81,
   "metadata": {},
   "outputs": [
    {
     "name": "stdout",
     "output_type": "stream",
     "text": [
      "16.0\n"
     ]
    }
   ],
   "source": [
    "print(np.exp2(4))#2**4"
   ]
  },
  {
   "cell_type": "code",
   "execution_count": 86,
   "metadata": {},
   "outputs": [
    {
     "name": "stdout",
     "output_type": "stream",
     "text": [
      "6.38905609893065\n",
      "6.38905609893065\n"
     ]
    }
   ],
   "source": [
    "print(np.expm1(2))# np.exp(2)-1\n",
    "print(np.exp(2)-1)"
   ]
  },
  {
   "cell_type": "code",
   "execution_count": null,
   "metadata": {},
   "outputs": [],
   "source": []
  }
 ],
 "metadata": {
  "kernelspec": {
   "display_name": "Python 3",
   "language": "python",
   "name": "python3"
  },
  "language_info": {
   "codemirror_mode": {
    "name": "ipython",
    "version": 3
   },
   "file_extension": ".py",
   "mimetype": "text/x-python",
   "name": "python",
   "nbconvert_exporter": "python",
   "pygments_lexer": "ipython3",
   "version": "3.7.4"
  }
 },
 "nbformat": 4,
 "nbformat_minor": 2
}
